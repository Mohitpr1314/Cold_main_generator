{
 "cells": [
  {
   "cell_type": "code",
   "execution_count": 1,
   "id": "7a205f6f",
   "metadata": {},
   "outputs": [
    {
     "data": {
      "text/plain": [
       "'2 + 2 = 4'"
      ]
     },
     "execution_count": 1,
     "metadata": {},
     "output_type": "execute_result"
    }
   ],
   "source": [
    "from langchain_groq import ChatGroq\n",
    "from dotenv import load_dotenv\n",
    "import os\n",
    "\n",
    "load_dotenv()\n",
    "\n",
    "llm = ChatGroq(groq_api_key=os.environ['GROQ_API_KEY'], model=\"llama-3.3-70b-versatile\")\n",
    "response = llm.invoke(\"2+2\")\n",
    "response.content"
   ]
  },
  {
   "cell_type": "code",
   "execution_count": 15,
   "id": "10b2e744",
   "metadata": {},
   "outputs": [
    {
     "name": "stdout",
     "output_type": "stream",
     "text": [
      "\n",
      "\n",
      "\n",
      "AIML Data Operations Annotation Analyst - Flemish - 12 Month. Contract - Jobs at Apple (IN) \n",
      "\n",
      "\n",
      "\n",
      "\n",
      "\n",
      "\n",
      "\n",
      "\n",
      "\n",
      "\n",
      "\n",
      "\n",
      "\n",
      "AppleStoreMaciPadiPhoneWatchAirPodsTV & HomeEntertainmentAccessoriesSupport\n",
      "\n",
      "\n",
      "0+\n",
      "\n",
      "\n",
      "    Please enable Javascript in your browser for best experience.\n",
      "  \n",
      "\n",
      "Jobs at AppleOpen MenuClose MenuWork at AppleLife at AppleProfileSign In\n",
      "Search\n",
      "AIML Data Operations Annotation Analyst - Flemish - 12 Month. ContractCork, County Cork, IrelandSoftware and ServicesAdd to Favourites AIML Data Operations Annotation Analyst - Flemish - 12 Month. ContractRemoved from favouritesSubmit CVBack to search resultsSummaryPosted: \n",
      "                May 02, 2025Weekly Hours: 39Role Number:200602885Imagine what you could do here. At Apple, new ideas have a way of becoming extraordinary products, services, and customer experiences very quickly. The people here at Apple donʼt just craft products - they build the kind of wonder that revolutionized entire industries. Itʼs the diversity of those people and their ideas that inspires the innovation that runs through everything we do, from amazing technology to industry-leading environmental efforts. Join Apple, and help us leave the world better than we found it.  \n",
      "\n",
      "Are you interested in being part of a team that continues to innovate the way people and machines interact? The world of Artificial Intelligence and Machine Learning (AIML) is rapidly growing and the human annotation team is a big part of it.  Siri is powered by Apple Intelligence and offers a faster, easier way to get things done on your Apple devices, even before you ask. The Data Operations team is passionate about technology with a focus on enriching the customer experience. We are looking for a motivated Annotation Analyst that demonstrates active listening, integrity and acute attention to detail. Bring passion and dedication to your job and there's no telling what you could accomplish.DescriptionOur team is comprised of very talented individuals, who are passionate about AIML and ensuring Apple services are at their best.\n",
      "\n",
      "As part of the Data Operations team you'll play a central role in enhancing the user experience. We work in a fast paced, dynamic, technology focused environment. As an Annotation Analyst, you'll annotate data which can be both audio and visual and evaluate data from customers who have opted in to the grading program. You'll use your language and cultural knowledge, along with analytical skills, to evaluate responses and information against guidelines. Your flexibility and the ability to prioritize tasks is essential. We focus on the user experience, thinking creatively on how customers use our products and use this knowledge for improvements.\n",
      "\n",
      "Because we believe our individual backgrounds, perspectives, and passions help us build the ideas that move all of us forward. We'll train you to be an expert in understanding, supporting and improving the customer experience. \n",
      "\n",
      "This position is required to work Monday through Friday with work hours starting between 7am-9am and ending between 4pm-6pm local time with scheduling and work flexibility based on business needs. \n",
      "\n",
      "The position comes with competitive pay, great benefits, eligibility to participate in our company stock plan, time off, and employee discount.Minimum QualificationsFlemish reading, writing, and comprehension skills to support the language specific marketFluency in English reading, writing and comprehension skills to partner with international teamsExcellent active listening skills with the ability to understand verbal nuancesUnderstanding of the local region and cultural variationsDemonstrates integrity and focuses on customer privacyPreferred QualificationsDemonstrates attention to detail and critical thinking skills in evaluation of language usage and dialectHighly organized with strong attention to detailAbility to independently navigate systems and toolsExperience in content review or a similar environment, prior testing experience preferredDemonstrates flexibility and adaptability to changing work-flows and responsibilitiesGrows with a team where expertise is shared and feedback is welcomedExcels at working independently to make timely decisions and take appropriate actionsExperience as an end user of Siri, similar Intelligent Personal Assistants, or other AISuccessfully meets or exceeds targets, working within tight deadlinesAbility to identify business process solutions that increase efficienciesAbility to maintain focus and aim for high results through large volumes of tasksAbility to work on safety data which could include offensive materialThrives in repetitive work and ambiguous scenariosBachelor’s degree or equivalent job-related experienceSubmit CVBack to search resultsAdd to Favourites AIML Data Operations Annotation Analyst - Flemish - 12 Month. ContractRemoved from favouritesSee all roles in Cork\n",
      "\n",
      "Apple FooterAt Apple, we’re not all the same. And that’s our greatest strength. We draw on the differences in who we are, what we’ve experienced, and how we think. Because to create products that serve everyone, we believe in including everyone. Therefore, we are committed to treating all applicants fairly and equally. We will work with applicants to make any reasonable accommodations.AppleCareers at AppleCareers at AppleShop and LearnShop and LearnStoreMaciPadiPhoneWatchAirPodsTV & HomeAirTagAccessoriesGift CardsApple WalletApple WalletWalletAccountAccountManage Your Apple IDApple Store AccountiCloud.comEntertainmentEntertainmentApple OneApple TV+Apple MusicApple ArcadeApple PodcastsApple BooksApp StoreApple StoreApple StoreFind a StoreGenius BarToday at AppleGroup ReservationsApple CampApple Trade InWays to BuyRecycling ProgrammeOrder StatusShopping HelpFor BusinessFor BusinessApple and BusinessShop for BusinessFor EducationFor EducationApple and EducationShop for EducationShop for UniversityFor HealthcareFor HealthcareApple in HealthcareHealth on Apple WatchApple ValuesApple ValuesAccessibilityEducationEnvironmentPrivacySupply ChainAbout AppleAbout AppleNewsroomApple LeadershipCareer OpportunitiesInvestorsEthics & ComplianceEventsContact Apple\n",
      "More ways to shop: Find an Apple Store or other retailer near you. Or call 000800 040 1966.IndiaCopyright © 2024 Apple Inc. All rights reserved.Privacy PolicyTerms of UseSales PolicyLegalSite Map\n",
      "\n",
      "\n",
      "\n",
      "\n",
      "\n",
      "\n",
      "\n",
      "\n",
      "\n",
      "\n"
     ]
    }
   ],
   "source": [
    "from langchain_community.document_loaders import WebBaseLoader\n",
    "\n",
    "# loader = WebBaseLoader(\"https://jobs.nike.com/job/R-33460\")\n",
    "loader = WebBaseLoader(\"https://jobs.apple.com/en-in/details/200602885/aiml-data-operations-annotation-analyst-flemish-12-month-contract?team=SFTWR\")\n",
    "page_data = loader.load().pop().page_content\n",
    "print(page_data)"
   ]
  },
  {
   "cell_type": "code",
   "execution_count": 16,
   "id": "06332d50",
   "metadata": {},
   "outputs": [
    {
     "name": "stdout",
     "output_type": "stream",
     "text": [
      "```json\n",
      "{\n",
      "  \"role\": \"AIML Data Operations Annotation Analyst - Flemish\",\n",
      "  \"experience\": \"No specific experience mentioned, but Bachelor's degree or equivalent job-related experience preferred\",\n",
      "  \"skills\": [\n",
      "    \"Flemish reading, writing, and comprehension skills\",\n",
      "    \"English reading, writing, and comprehension skills\",\n",
      "    \"Active listening skills\",\n",
      "    \"Understanding of local region and cultural variations\",\n",
      "    \"Integrity and focus on customer privacy\",\n",
      "    \"Attention to detail and critical thinking skills\",\n",
      "    \"Organizational skills\",\n",
      "    \"Ability to work independently and navigate systems and tools\"\n",
      "  ],\n",
      "  \"description\": \"We are looking for a motivated Annotation Analyst to join our Data Operations team. The successful candidate will annotate data, evaluate responses and information against guidelines, and use their language and cultural knowledge to support the customer experience. This is a 12-month contract position based in Cork, Ireland.\"\n",
      "}\n",
      "```\n"
     ]
    },
    {
     "data": {
      "text/plain": [
       "str"
      ]
     },
     "execution_count": 16,
     "metadata": {},
     "output_type": "execute_result"
    }
   ],
   "source": [
    "from langchain_core.prompts import PromptTemplate\n",
    "\n",
    "prompt_extract = PromptTemplate.from_template(\n",
    "        \"\"\"\n",
    "        ### SCRAPED TEXT FROM WEBSITE:\n",
    "        {page_data}\n",
    "        ### INSTRUCTION:\n",
    "        The scraped text is from the career's page of a website.\n",
    "        Your job is to extract the job postings and return them in JSON format containing the \n",
    "        following keys: `role`, `experience`, `skills` and `description`.\n",
    "        Only return the valid JSON.\n",
    "        ### VALID JSON (NO PREAMBLE):    \n",
    "        \"\"\"\n",
    ")\n",
    "\n",
    "chain_extract = prompt_extract | llm \n",
    "res = chain_extract.invoke(input={'page_data':page_data})\n",
    "print(res.content)\n",
    "type(res.content)"
   ]
  },
  {
   "cell_type": "code",
   "execution_count": 17,
   "id": "f85dfcde",
   "metadata": {},
   "outputs": [
    {
     "data": {
      "text/plain": [
       "{'role': 'AIML Data Operations Annotation Analyst - Flemish',\n",
       " 'experience': \"No specific experience mentioned, but Bachelor's degree or equivalent job-related experience preferred\",\n",
       " 'skills': ['Flemish reading, writing, and comprehension skills',\n",
       "  'English reading, writing, and comprehension skills',\n",
       "  'Active listening skills',\n",
       "  'Understanding of local region and cultural variations',\n",
       "  'Integrity and focus on customer privacy',\n",
       "  'Attention to detail and critical thinking skills',\n",
       "  'Organizational skills',\n",
       "  'Ability to work independently and navigate systems and tools'],\n",
       " 'description': 'We are looking for a motivated Annotation Analyst to join our Data Operations team. The successful candidate will annotate data, evaluate responses and information against guidelines, and use their language and cultural knowledge to support the customer experience. This is a 12-month contract position based in Cork, Ireland.'}"
      ]
     },
     "execution_count": 17,
     "metadata": {},
     "output_type": "execute_result"
    }
   ],
   "source": [
    "from langchain_core.output_parsers import JsonOutputParser\n",
    "\n",
    "json_parser = JsonOutputParser()\n",
    "json_res = json_parser.parse(res.content)\n",
    "json_res"
   ]
  },
  {
   "cell_type": "code",
   "execution_count": 18,
   "id": "6c4db75b",
   "metadata": {},
   "outputs": [
    {
     "data": {
      "text/html": [
       "<div>\n",
       "<style scoped>\n",
       "    .dataframe tbody tr th:only-of-type {\n",
       "        vertical-align: middle;\n",
       "    }\n",
       "\n",
       "    .dataframe tbody tr th {\n",
       "        vertical-align: top;\n",
       "    }\n",
       "\n",
       "    .dataframe thead th {\n",
       "        text-align: right;\n",
       "    }\n",
       "</style>\n",
       "<table border=\"1\" class=\"dataframe\">\n",
       "  <thead>\n",
       "    <tr style=\"text-align: right;\">\n",
       "      <th></th>\n",
       "      <th>Techstack</th>\n",
       "      <th>Links</th>\n",
       "    </tr>\n",
       "  </thead>\n",
       "  <tbody>\n",
       "    <tr>\n",
       "      <th>0</th>\n",
       "      <td>React, Node.js, MongoDB</td>\n",
       "      <td>https://example.com/react-portfolio</td>\n",
       "    </tr>\n",
       "    <tr>\n",
       "      <th>1</th>\n",
       "      <td>Angular,.NET, SQL Server</td>\n",
       "      <td>https://example.com/angular-portfolio</td>\n",
       "    </tr>\n",
       "    <tr>\n",
       "      <th>2</th>\n",
       "      <td>Vue.js, Ruby on Rails, PostgreSQL</td>\n",
       "      <td>https://example.com/vue-portfolio</td>\n",
       "    </tr>\n",
       "    <tr>\n",
       "      <th>3</th>\n",
       "      <td>Python, Django, MySQL</td>\n",
       "      <td>https://example.com/python-portfolio</td>\n",
       "    </tr>\n",
       "    <tr>\n",
       "      <th>4</th>\n",
       "      <td>Java, Spring Boot, Oracle</td>\n",
       "      <td>https://example.com/java-portfolio</td>\n",
       "    </tr>\n",
       "    <tr>\n",
       "      <th>5</th>\n",
       "      <td>Flutter, Firebase, GraphQL</td>\n",
       "      <td>https://example.com/flutter-portfolio</td>\n",
       "    </tr>\n",
       "    <tr>\n",
       "      <th>6</th>\n",
       "      <td>WordPress, PHP, MySQL</td>\n",
       "      <td>https://example.com/wordpress-portfolio</td>\n",
       "    </tr>\n",
       "    <tr>\n",
       "      <th>7</th>\n",
       "      <td>Magento, PHP, MySQL</td>\n",
       "      <td>https://example.com/magento-portfolio</td>\n",
       "    </tr>\n",
       "    <tr>\n",
       "      <th>8</th>\n",
       "      <td>React Native, Node.js, MongoDB</td>\n",
       "      <td>https://example.com/react-native-portfolio</td>\n",
       "    </tr>\n",
       "    <tr>\n",
       "      <th>9</th>\n",
       "      <td>iOS, Swift, Core Data</td>\n",
       "      <td>https://example.com/ios-portfolio</td>\n",
       "    </tr>\n",
       "    <tr>\n",
       "      <th>10</th>\n",
       "      <td>Android, Java, Room Persistence</td>\n",
       "      <td>https://example.com/android-portfolio</td>\n",
       "    </tr>\n",
       "    <tr>\n",
       "      <th>11</th>\n",
       "      <td>Kotlin, Android, Firebase</td>\n",
       "      <td>https://example.com/kotlin-android-portfolio</td>\n",
       "    </tr>\n",
       "    <tr>\n",
       "      <th>12</th>\n",
       "      <td>Android TV, Kotlin, Android NDK</td>\n",
       "      <td>https://example.com/android-tv-portfolio</td>\n",
       "    </tr>\n",
       "    <tr>\n",
       "      <th>13</th>\n",
       "      <td>iOS, Swift, ARKit</td>\n",
       "      <td>https://example.com/ios-ar-portfolio</td>\n",
       "    </tr>\n",
       "    <tr>\n",
       "      <th>14</th>\n",
       "      <td>Cross-platform, Xamarin, Azure</td>\n",
       "      <td>https://example.com/xamarin-portfolio</td>\n",
       "    </tr>\n",
       "    <tr>\n",
       "      <th>15</th>\n",
       "      <td>Backend, Kotlin, Spring Boot</td>\n",
       "      <td>https://example.com/kotlin-backend-portfolio</td>\n",
       "    </tr>\n",
       "    <tr>\n",
       "      <th>16</th>\n",
       "      <td>Frontend, TypeScript, Angular</td>\n",
       "      <td>https://example.com/typescript-frontend-portfolio</td>\n",
       "    </tr>\n",
       "    <tr>\n",
       "      <th>17</th>\n",
       "      <td>Full-stack, JavaScript, Express.js</td>\n",
       "      <td>https://example.com/full-stack-js-portfolio</td>\n",
       "    </tr>\n",
       "    <tr>\n",
       "      <th>18</th>\n",
       "      <td>Machine Learning, Python, TensorFlow</td>\n",
       "      <td>https://example.com/ml-python-portfolio</td>\n",
       "    </tr>\n",
       "    <tr>\n",
       "      <th>19</th>\n",
       "      <td>DevOps, Jenkins, Docker</td>\n",
       "      <td>https://example.com/devops-portfolio</td>\n",
       "    </tr>\n",
       "  </tbody>\n",
       "</table>\n",
       "</div>"
      ],
      "text/plain": [
       "                               Techstack  \\\n",
       "0                React, Node.js, MongoDB   \n",
       "1               Angular,.NET, SQL Server   \n",
       "2      Vue.js, Ruby on Rails, PostgreSQL   \n",
       "3                  Python, Django, MySQL   \n",
       "4              Java, Spring Boot, Oracle   \n",
       "5             Flutter, Firebase, GraphQL   \n",
       "6                  WordPress, PHP, MySQL   \n",
       "7                    Magento, PHP, MySQL   \n",
       "8         React Native, Node.js, MongoDB   \n",
       "9                  iOS, Swift, Core Data   \n",
       "10       Android, Java, Room Persistence   \n",
       "11             Kotlin, Android, Firebase   \n",
       "12       Android TV, Kotlin, Android NDK   \n",
       "13                     iOS, Swift, ARKit   \n",
       "14        Cross-platform, Xamarin, Azure   \n",
       "15          Backend, Kotlin, Spring Boot   \n",
       "16         Frontend, TypeScript, Angular   \n",
       "17    Full-stack, JavaScript, Express.js   \n",
       "18  Machine Learning, Python, TensorFlow   \n",
       "19               DevOps, Jenkins, Docker   \n",
       "\n",
       "                                                Links  \n",
       "0                 https://example.com/react-portfolio  \n",
       "1               https://example.com/angular-portfolio  \n",
       "2                   https://example.com/vue-portfolio  \n",
       "3                https://example.com/python-portfolio  \n",
       "4                  https://example.com/java-portfolio  \n",
       "5               https://example.com/flutter-portfolio  \n",
       "6             https://example.com/wordpress-portfolio  \n",
       "7               https://example.com/magento-portfolio  \n",
       "8          https://example.com/react-native-portfolio  \n",
       "9                   https://example.com/ios-portfolio  \n",
       "10              https://example.com/android-portfolio  \n",
       "11       https://example.com/kotlin-android-portfolio  \n",
       "12           https://example.com/android-tv-portfolio  \n",
       "13               https://example.com/ios-ar-portfolio  \n",
       "14              https://example.com/xamarin-portfolio  \n",
       "15       https://example.com/kotlin-backend-portfolio  \n",
       "16  https://example.com/typescript-frontend-portfolio  \n",
       "17        https://example.com/full-stack-js-portfolio  \n",
       "18            https://example.com/ml-python-portfolio  \n",
       "19               https://example.com/devops-portfolio  "
      ]
     },
     "execution_count": 18,
     "metadata": {},
     "output_type": "execute_result"
    }
   ],
   "source": [
    "import pandas as pd\n",
    "\n",
    "df = pd.read_csv('my_portfolio.csv')\n",
    "df\n"
   ]
  },
  {
   "cell_type": "code",
   "execution_count": 19,
   "id": "af141b51",
   "metadata": {},
   "outputs": [],
   "source": [
    "import uuid\n",
    "import chromadb\n",
    "\n",
    "client = chromadb.PersistentClient('vectorstore')\n",
    "collection = client.get_or_create_collection(name=\"portfolio\")\n",
    "\n",
    "if not collection.count():\n",
    "    for _, row in df.iterrows():\n",
    "        collection.add(documents=row[\"Techstack\"],\n",
    "                       metadatas={\"links\": row[\"Links\"]},\n",
    "                       ids=[str(uuid.uuid4())])"
   ]
  },
  {
   "cell_type": "code",
   "execution_count": null,
   "id": "5511fc28",
   "metadata": {},
   "outputs": [
    {
     "data": {
      "text/plain": [
       "[[{'links': 'https://example.com/ml-python-portfolio'},\n",
       "  {'links': 'https://example.com/python-portfolio'}],\n",
       " [{'links': 'https://example.com/react-native-portfolio'},\n",
       "  {'links': 'https://example.com/react-portfolio'}]]"
      ]
     },
     "execution_count": 22,
     "metadata": {},
     "output_type": "execute_result"
    }
   ],
   "source": [
    "links = collection.query(query_texts=['Experience in python','Expertise in React Native'], n_results=2).get('metadatas')\n",
    "links"
   ]
  },
  {
   "cell_type": "code",
   "execution_count": 23,
   "id": "dcbe506c",
   "metadata": {},
   "outputs": [
    {
     "data": {
      "text/plain": [
       "['Flemish reading, writing, and comprehension skills',\n",
       " 'English reading, writing, and comprehension skills',\n",
       " 'Active listening skills',\n",
       " 'Understanding of local region and cultural variations',\n",
       " 'Integrity and focus on customer privacy',\n",
       " 'Attention to detail and critical thinking skills',\n",
       " 'Organizational skills',\n",
       " 'Ability to work independently and navigate systems and tools']"
      ]
     },
     "execution_count": 23,
     "metadata": {},
     "output_type": "execute_result"
    }
   ],
   "source": [
    "job = json_res\n",
    "job['skills']"
   ]
  },
  {
   "cell_type": "code",
   "execution_count": 24,
   "id": "0c225d49",
   "metadata": {},
   "outputs": [
    {
     "data": {
      "text/plain": [
       "[[{'links': 'https://example.com/python-portfolio'},\n",
       "  {'links': 'https://example.com/ml-python-portfolio'}],\n",
       " [{'links': 'https://example.com/ios-ar-portfolio'},\n",
       "  {'links': 'https://example.com/ml-python-portfolio'}],\n",
       " [{'links': 'https://example.com/ml-python-portfolio'},\n",
       "  {'links': 'https://example.com/android-portfolio'}],\n",
       " [{'links': 'https://example.com/magento-portfolio'},\n",
       "  {'links': 'https://example.com/wordpress-portfolio'}],\n",
       " [{'links': 'https://example.com/android-portfolio'},\n",
       "  {'links': 'https://example.com/ios-portfolio'}],\n",
       " [{'links': 'https://example.com/ios-portfolio'},\n",
       "  {'links': 'https://example.com/full-stack-js-portfolio'}],\n",
       " [{'links': 'https://example.com/ml-python-portfolio'},\n",
       "  {'links': 'https://example.com/magento-portfolio'}],\n",
       " [{'links': 'https://example.com/ios-ar-portfolio'},\n",
       "  {'links': 'https://example.com/android-portfolio'}]]"
      ]
     },
     "execution_count": 24,
     "metadata": {},
     "output_type": "execute_result"
    }
   ],
   "source": [
    "links = collection.query(query_texts=job['skills'], n_results=2).get('metadatas')\n",
    "links"
   ]
  },
  {
   "cell_type": "code",
   "execution_count": 25,
   "id": "c185f1cd",
   "metadata": {},
   "outputs": [
    {
     "data": {
      "text/plain": [
       "{'role': 'AIML Data Operations Annotation Analyst - Flemish',\n",
       " 'experience': \"No specific experience mentioned, but Bachelor's degree or equivalent job-related experience preferred\",\n",
       " 'skills': ['Flemish reading, writing, and comprehension skills',\n",
       "  'English reading, writing, and comprehension skills',\n",
       "  'Active listening skills',\n",
       "  'Understanding of local region and cultural variations',\n",
       "  'Integrity and focus on customer privacy',\n",
       "  'Attention to detail and critical thinking skills',\n",
       "  'Organizational skills',\n",
       "  'Ability to work independently and navigate systems and tools'],\n",
       " 'description': 'We are looking for a motivated Annotation Analyst to join our Data Operations team. The successful candidate will annotate data, evaluate responses and information against guidelines, and use their language and cultural knowledge to support the customer experience. This is a 12-month contract position based in Cork, Ireland.'}"
      ]
     },
     "execution_count": 25,
     "metadata": {},
     "output_type": "execute_result"
    }
   ],
   "source": [
    "job"
   ]
  },
  {
   "cell_type": "code",
   "execution_count": 29,
   "id": "b2518ba5",
   "metadata": {},
   "outputs": [
    {
     "name": "stdout",
     "output_type": "stream",
     "text": [
      "Subject: Expert Annotation Analyst Services for Enhanced Customer Experience\n",
      "\n",
      "Dear Hiring Manager,\n",
      "\n",
      "I came across the job posting for an AIML Data Operations Annotation Analyst - Flemish, and I am excited to introduce TCS, a global leader in IT services, consulting, and business solutions, as a potential partner to fulfill your requirements. With our extensive experience in driving digital transformation for businesses worldwide, I am confident that we can provide the expertise you need to annotate data, evaluate responses, and support the customer experience.\n",
      "\n",
      "Our team at TCS possesses the required Flemish and English language skills, active listening skills, and understanding of local region and cultural variations to deliver high-quality services. We prioritize integrity and focus on customer privacy, ensuring that our services meet the highest standards of data protection and confidentiality. Our experts are detail-oriented, critically thinking, and organized, with the ability to work independently and navigate complex systems and tools.\n",
      "\n",
      "To demonstrate our capabilities, I would like to highlight some of our relevant portfolio links:\n",
      "\n",
      "* https://example.com/ml-python-portfolio (Machine Learning and Python expertise)\n",
      "* https://example.com/magento-portfolio (E-commerce and digital transformation expertise)\n",
      "* https://example.com/full-stack-js-portfolio (Full-stack development expertise)\n",
      "\n",
      "These links showcase our expertise in developing innovative solutions using machine learning, Python, and full-stack development, which can be leveraged to support your data annotation and customer experience goals.\n",
      "\n",
      "We understand the importance of cultural knowledge and local region expertise in delivering exceptional customer experiences. Our team is well-versed in navigating cultural variations and ensuring that our services are tailored to meet the specific needs of your customers.\n",
      "\n",
      "I would be delighted to discuss how TCS can support your AIML Data Operations Annotation Analyst requirements and provide a customized solution to meet your needs. Please do not hesitate to contact me to arrange a call to explore this opportunity further.\n",
      "\n",
      "Best regards,\n",
      "\n",
      "Mohan\n",
      "Business Development Executive\n",
      "TCS\n"
     ]
    }
   ],
   "source": [
    "prompt_email = PromptTemplate.from_template(\n",
    "    \"\"\"\n",
    "    ### JOB DESCRIPTION:\n",
    "    {job_description}\n",
    "    \n",
    "    ### INSTRUCTION:\n",
    "    You are Mohan, a business development executive at TCS. TCS is a global leader in IT services, consulting, and business solutions, helping businesses around the world navigate their digital transformation journey. \n",
    "    Over the years, we have empowered numerous enterprises with innovative, cutting-edge technology solutions that drive operational efficiency, cost savings, and scalability.\n",
    "    Your job is to write a cold email to the client regarding the job mentioned above describing the capability of TCS in fulfilling their needs.\n",
    "    Also add the most relevant ones from the following links to showcase TCS's portfolio: {link_list}\n",
    "    Remember you are Mohan, BDE at TCS.\n",
    "    Do not provide a preamble.\n",
    "    ### EMAIL (NO PREAMBLE): \n",
    "    \"\"\"\n",
    ")\n",
    "\n",
    "chain_email = prompt_email | llm \n",
    "res = chain_email.invoke({\"job_description\": str(job), \"link_list\": links}) \n",
    "print(res.content)\n"
   ]
  },
  {
   "cell_type": "code",
   "execution_count": null,
   "id": "6c982e84",
   "metadata": {},
   "outputs": [],
   "source": []
  }
 ],
 "metadata": {
  "kernelspec": {
   "display_name": "myenv",
   "language": "python",
   "name": "python3"
  },
  "language_info": {
   "codemirror_mode": {
    "name": "ipython",
    "version": 3
   },
   "file_extension": ".py",
   "mimetype": "text/x-python",
   "name": "python",
   "nbconvert_exporter": "python",
   "pygments_lexer": "ipython3",
   "version": "3.13.3"
  }
 },
 "nbformat": 4,
 "nbformat_minor": 5
}
